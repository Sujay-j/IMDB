{
 "cells": [
  {
   "cell_type": "code",
   "execution_count": 1,
   "metadata": {},
   "outputs": [],
   "source": [
    "import numpy as np\n",
    "import tensorflow as tf\n",
    "import tensorflow_hub as hub\n",
    "import tensorflow_datasets as tfds"
   ]
  },
  {
   "cell_type": "code",
   "execution_count": 5,
   "metadata": {},
   "outputs": [
    {
     "name": "stderr",
     "output_type": "stream",
     "text": [
      "WARNING:absl:Warning: Setting shuffle_files=True because split=TRAIN and shuffle_files=None. This behavior will be deprecated on 2019-08-06, at which point shuffle_files=False will be the default for all splits.\n"
     ]
    }
   ],
   "source": [
    "train,test = tfds.load(name='imdb_reviews',split = ('train','test'),as_supervised=True)"
   ]
  },
  {
   "cell_type": "code",
   "execution_count": 8,
   "metadata": {},
   "outputs": [
    {
     "data": {
      "text/plain": [
       "<tf.Tensor: id=123, shape=(10,), dtype=string, numpy=\n",
       "array([b'Brian De Palma\\'s undeniable virtuosity can\\'t really camouflage the fact that his plot here is a thinly disguised \"Psycho\" carbon copy, but he does provide a genuinely terrifying climax. His \"Blow Out\", made the next year, was an improvement.',\n",
       "       b\"This was soul-provoking! I am an Iranian, and living in th 21st century, I didn't know that such big tribes have been living in such conditions at the time of my grandfather!<br /><br />You see that today, or even in 1925, on one side of the world a lady or a baby could have everything served for him or her clean and on-demand, but here 80 years ago, people ventured their life to go to somewhere with more grass. It's really interesting that these Persians bear those difficulties to find pasture for their sheep, but they lose many the sheep on their way.<br /><br />I praise the Americans who accompanied this tribe, they were as tough as Bakhtiari people.\",\n",
       "       b\"Being a fan of silent films, I looked forward to seeing this picture for the first time. I was pretty disappointed. <br /><br />As has been mentioned, the film seems to be one long, long, commercial for the Maxwell automobile. <br /><br />Perhaps if the chase scene was about half the length that it is, I may have enjoyed the film more. But it got old very fast. And while I recognize that reality is stretched many times in films, without lessening a viewer's enjoyment, what was with the Mexican bandits? I mean, they are chasing a car through the mountains, a car that most of the time is moving at about one mile per hour, yet they can't catch up to it?\",\n",
       "       b'I have no idea what the other reviewer is talking about- this was a wonderful movie, and created a sense of the era that feels like time travel. The characters are truly young, Mary is a strong match for Byron, Claire is juvenile and a tad annoying, Polidori is a convincing beaten-down sycophant... all are beautiful, curious, and decadent... not the frightening wrecks they are in Gothic.<br /><br />Gothic works as an independent piece of shock film, and I loved it for different reasons, but this works like a Merchant and Ivory film, and was from my readings the best capture of what the summer must have felt like. Romantic, yes, but completely rekindles my interest in the lives of Shelley and Byron every time I think about the film. One of my all-time favorites.',\n",
       "       b\"As a lifelong fan of Dickens, I have invariably been disappointed by adaptations of his novels.<br /><br />Although his works presented an extremely accurate re-telling of human life at every level in Victorian Britain, throughout them all was a pervasive thread of humour that could be both playful or sarcastic as the narrative dictated. In a way, he was a literary caricaturist and cartoonist. He could be serious and hilarious in the same sentence. He pricked pride, lampooned arrogance, celebrated modesty, and empathised with loneliness and poverty. It may be a clich\\xc3\\xa9, but he was a people's writer.<br /><br />And it is the comedy that is so often missing from his interpretations. At the time of writing, Oliver Twist is being dramatised in serial form on BBC television. All of the misery and cruelty is their, but non of the humour, irony, and savage lampoonery. The result is just a dark, dismal experience: the story penned by a journalist rather than a novelist. It's not really Dickens at all.<br /><br />'Oliver!', on the other hand, is much closer to the mark. The mockery of officialdom is perfectly interpreted, from the blustering beadle to the drunken magistrate. The classic stand-off between the beadle and Mr Brownlow, in which the law is described as 'a ass, a idiot' couldn't have been better done. Harry Secombe is an ideal choice.<br /><br />But the blinding cruelty is also there, the callous indifference of the state, the cold, hunger, poverty and loneliness are all presented just as surely as The Master would have wished.<br /><br />And then there is crime. Ron Moody is a treasure as the sleazy Jewish fence, whilst Oliver Reid has Bill Sykes to perfection.<br /><br />Perhaps not surprisingly, Lionel Bart - himself a Jew from London's east-end - takes a liberty with Fagin by re-interpreting him as a much more benign fellow than was Dicken's original. In the novel, he was utterly ruthless, sending some of his own boys to the gallows in order to protect himself (though he was also caught and hanged). Whereas in the movie, he is presented as something of a wayward father-figure, a sort of charitable thief rather than a corrupter of children, the latter being a long-standing anti-semitic sentiment. Otherwise, very few liberties are taken with Dickens's original. All of the most memorable elements are included. Just enough menace and violence is retained to ensure narrative fidelity whilst at the same time allowing for children' sensibilities. Nancy is still beaten to death, Bullseye narrowly escapes drowning, and Bill Sykes gets a faithfully graphic come-uppance.<br /><br />Every song is excellent, though they do incline towards schmaltz. Mark Lester mimes his wonderfully. Both his and my favourite scene is the one in which the world comes alive to 'who will buy'. It's schmaltzy, but it's Dickens through and through.<br /><br />I could go on. I could commend the wonderful set-pieces, the contrast of the rich and poor. There is top-quality acting from more British regulars than you could shake a stick at.<br /><br />I ought to give it 10 points, but I'm feeling more like Scrooge today. Soak it up with your Christmas dinner. No original has been better realised.\",\n",
       "       b\"This is the most depressing film I have ever seen. I first saw it as a child and even thinking about it now really upsets me. I know it was set in a time when life was hard and I know these people were poor and the crops were vital. Yes, I get all that. What I find hard to take is I can't remember one single light moment in the entire film. Maybe it was true to life, I don't know. I'm quite sure the acting was top notch and the direction and quality of filming etc etc was wonderful and I know that every film can't have a happy ending but as a family film it is dire in my opinion.<br /><br />I wouldn't recommend it to anyone who wants to be entertained by a film. I can't stress enough how this film affected me as a child. I was talking about it recently and all the sad memories came flooding back. I think it would have all but the heartless reaching for the Prozac.\",\n",
       "       b\"Oh yeah! Jenna Jameson did it again! Yeah Baby! This movie rocks. It was one of the 1st movies i saw of her. And i have to say i feel in love with her, she was great in this move.<br /><br />Her performance was outstanding and what i liked the most was the scenery and the wardrobe it was amazing you can tell that they put a lot into the movie the girls cloth were amazing.<br /><br />I hope this comment helps and u can buy the movie, the storyline is awesome is very unique and i'm sure u are going to like it. Jenna amazed us once more and no wonder the movie won so many awards. Her make-up and wardrobe is very very sexy and the girls on girls scene is amazing. specially the one where she looks like an angel. It's a must see and i hope u share my interests\",\n",
       "       b'This was a wonderfully clever and entertaining movie that I shall never tire of watching many, many times. The casting was magnificent in matching up the young with the older characters. There are those of us out here who really do appreciate good actors and an intelligent story format. As for Judi Dench, she is beautiful and a gift to any kind of production in which she stars. I always make a point to see Judi Dench in all her performances. She is a superb actress and a pleasure to watch as each transformation of her character comes to life. I can only be grateful when I see such an outstanding picture for most of the motion pictures made more recently lack good characters, good scripts and good acting. The movie public needs heroes, not deviant manikins, who lack ingenuity and talent. How wonderful to see old favorites like Leslie Caron, Olympia Dukakis and Cleo Laine. I would like to see this movie win the awards it deserves. Thank you again for a tremendous night of entertainment. I congratulate the writer, director, producer, and all those who did such a fine job.',\n",
       "       b'Sitting down to watch the 14th season of the Bachelor (\"On the Wings of Love\"), I knew I would be in for an \"interesting\" time. I had watched some of the previous seasons of the Bachelor in passing; watching an episode or two and missing the next three or so. I find that the Bachelor is often appealing and intriguing, though its quality and morality are often lacking.<br /><br />\"On the Wings of Love\" details the journey taken by Jake, a 31 year old commercial pilot from Dallas, Texas, to find true love, as true a love as one can find in a season-long reality-drama dating show. Jake meets 25 beautiful girls from all over the country. He begins to get to know them a bit, but it is mostly superficial; how well can you get to know someone in a few 5 minute conversations? Jake tries to make his true intentions known from the very beginning, at least to the audience. He noted that he doesn\\'t just want love or a good time, but he wants a fianc\\xc3\\xa9 or wife. We can only assume that he has made this clear to the women in the competition as well. If that is the case, it might explain, to a degree, some of the women\\'s actions. The women are super competitive. While they don\\'t even know Jake at all yet, they are still in it to win it no matter what the cost.<br /><br />Not only were the women competitive, but they were also confident and catty. Threats, backstabbing, and warnings of \"Watch out!\" all show that these women weren\\'t there for a good time either. Jake noted that he was not just looking for sex appeal, but looking for \"a connection.\" However, the girls pulled out all the stops to try to impress Jake with said sex appeal. They arrived at the mansion in skimpy dresses \\xc2\\x96 either low-cut or short.<br /><br />While some girls seemed to maintain their sense of decorum, others missed that memo altogether. One girl, Channy, noted that Jake was a \"good guy\" to whom she could be a \"naughty girl.\" She went on to say that Jake could land on her \"runway anytime.\" She got flack from the other girls for her provocative statement which showed their take on these situations.<br /><br />So, a reality dating show couldn\\'t be that bad, could it? Besides the obvious issue of sex-driven attraction, there are other issues that mar this seemingly harmless show. Is this the right way to find a future mate; vying for someone\\'s attention by flaunting oneself to extreme proportions? Unfortunately, however, that is what America has reduced dating to these days: pleasure and sex without commitment and a little happiness on the side.<br /><br />Another problem is the premature emotional attachment by which many of the girls bound themselves to Jake. A few girls in particular seemed to be overly attached. One girl said \"If I don\\'t get that first impression rose it will kill me!\" As mentioned before, they don\\'t even know him yet and she was talking about a specific rose, not just one of the 15 roses to keep from being eliminated.<br /><br />Michelle, in particular, seemed to have some issues with attachment to Jake. The other girls noticed it too. After one particular Michelle outburst, Vienna asserted that Michelle had a \"mental breakdown and we\\'ve only been here an hour.\" Michelle got the last rose of the evening on the first show \\xc2\\x96 narrowly missing elimination \\xc2\\x96 and was extremely emotional about it. The other girls thought it was simply ridiculous. Another girl also cried, but because she was eliminated.<br /><br />It began with Survivor, and from there it just took off \\xc2\\x96 reality TV. It shows our entertainment interests as a country; if we weren\\'t watching the shows and giving them good ratings, the networks would not continue to run them. The only logical conclusion that can be drawn is that enough of America is hooked. One thing is clear: America (in general) loves reality TV and its ensuing trappings.<br /><br />This begs me to question: why is it that we even like reality TV? What is it about it that draws us to it? Is it because we see the similarities to our own lives, or is it because we want to be sure that we are more stable and less pathetic than others? Whatever it is that draws us to it, we should be careful of the media and entertainment that we allow to fill our minds. I\\'m not saying that all reality TV shows are bad; however, I am saying that we need to evaluate each one.<br /><br />Episodes used for critique: Season Premier and Episode 2.',\n",
       "       b'A very close and sharp discription of the bubbling and dynamic emotional world of specialy one 18year old guy, that makes his first experiences in his gay love to an other boy, during an vacation with a part of his family.<br /><br />I liked this film because of his extremly clear and surrogated storytelling , with all this \"Sound-close-ups\" and quiet moments wich had been full of intensive moods.<br /><br />'],\n",
       "      dtype=object)>"
      ]
     },
     "execution_count": 8,
     "metadata": {},
     "output_type": "execute_result"
    }
   ],
   "source": [
    "train_examples,train_labels = next(iter(train.batch(10)))\n",
    "train_examples"
   ]
  },
  {
   "cell_type": "code",
   "execution_count": 9,
   "metadata": {},
   "outputs": [
    {
     "data": {
      "text/plain": [
       "<tf.Tensor: id=124, shape=(10,), dtype=int64, numpy=array([1, 1, 0, 1, 1, 0, 1, 1, 0, 1], dtype=int64)>"
      ]
     },
     "execution_count": 9,
     "metadata": {},
     "output_type": "execute_result"
    }
   ],
   "source": [
    "train_labels"
   ]
  },
  {
   "cell_type": "code",
   "execution_count": 11,
   "metadata": {},
   "outputs": [
    {
     "data": {
      "text/plain": [
       "<tf.Tensor: id=304, shape=(3, 20), dtype=float32, numpy=\n",
       "array([[ 0.71892303, -2.0958326 ,  2.481605  , -0.24909717, -1.6124796 ,\n",
       "        -1.0279148 , -1.7041445 ,  0.05924067,  2.0719886 , -1.3690318 ,\n",
       "        -1.2510301 ,  0.26544   ,  0.4398559 , -0.23960635, -0.4651044 ,\n",
       "         0.78264546,  1.3775747 , -0.92917114, -1.3016398 , -0.9623547 ],\n",
       "       [ 2.2488396 , -1.4537774 ,  1.97866   , -0.73290443, -2.2218246 ,\n",
       "        -4.054772  , -1.6585274 ,  1.8872426 ,  1.8315402 ,  0.45302168,\n",
       "        -0.50105846,  1.3690453 , -1.9862492 ,  0.4043505 , -5.337918  ,\n",
       "         1.5515825 ,  3.6844683 , -3.3751655 , -3.4578393 , -1.1764543 ],\n",
       "       [ 1.7955422 , -3.6056843 ,  2.6997256 , -0.60008395, -4.6546526 ,\n",
       "        -3.7613652 , -3.0317647 ,  0.04494802,  2.3193102 , -1.2068036 ,\n",
       "        -1.9191952 ,  2.5517764 , -0.35324278,  0.01286946, -4.1438556 ,\n",
       "         3.4991353 ,  3.2947102 , -2.3533776 , -3.3100967 , -1.0114092 ]],\n",
       "      dtype=float32)>"
      ]
     },
     "execution_count": 11,
     "metadata": {},
     "output_type": "execute_result"
    }
   ],
   "source": [
    "embedding=\"https://tfhub.dev/google/tf2-preview/gnews-swivel-20dim/1\"\n",
    "hub_layer = hub.KerasLayer(embedding,input_shape=[],dtype = tf.string,trainable = True)\n",
    "hub_layer(train_examples[:3])"
   ]
  },
  {
   "cell_type": "code",
   "execution_count": 12,
   "metadata": {},
   "outputs": [
    {
     "name": "stdout",
     "output_type": "stream",
     "text": [
      "Model: \"sequential\"\n",
      "_________________________________________________________________\n",
      "Layer (type)                 Output Shape              Param #   \n",
      "=================================================================\n",
      "keras_layer (KerasLayer)     (None, 20)                400020    \n",
      "_________________________________________________________________\n",
      "dense (Dense)                (None, 16)                336       \n",
      "_________________________________________________________________\n",
      "dense_1 (Dense)              (None, 1)                 17        \n",
      "=================================================================\n",
      "Total params: 400,373\n",
      "Trainable params: 400,373\n",
      "Non-trainable params: 0\n",
      "_________________________________________________________________\n"
     ]
    }
   ],
   "source": [
    "model=tf.keras.Sequential()\n",
    "model.add(hub_layer)\n",
    "model.add(tf.keras.layers.Dense(16,activation='relu'))\n",
    "model.add(tf.keras.layers.Dense(1))\n",
    "\n",
    "model.summary()"
   ]
  },
  {
   "cell_type": "markdown",
   "metadata": {},
   "source": [
    "The layers are stacked sequentially to build the classifier:\n",
    "\n",
    "The first layer is a TensorFlow Hub layer. This layer uses a pre-trained Saved Model to map a sentence into its embedding vector. The pre-trained text embedding model that we are using (google/tf2-preview/gnews-swivel-20dim/1) splits the sentence into tokens, embeds each token and then combines the embedding. The resulting dimensions are: (num_examples, embedding_dimension).\n",
    "This fixed-length output vector is piped through a fully-connected (Dense) layer with 16 hidden units.\n",
    "The last layer is densely connected with a single output node."
   ]
  },
  {
   "cell_type": "code",
   "execution_count": 13,
   "metadata": {},
   "outputs": [],
   "source": [
    "model.compile(optimizer='adam',loss=tf.keras.losses.BinaryCrossentropy(from_logits=True),metrics=['accuracy'])"
   ]
  },
  {
   "cell_type": "code",
   "execution_count": null,
   "metadata": {},
   "outputs": [],
   "source": []
  },
  {
   "cell_type": "code",
   "execution_count": 16,
   "metadata": {},
   "outputs": [
    {
     "name": "stdout",
     "output_type": "stream",
     "text": [
      "Epoch 1/20\n",
      "49/49 [==============================].1288 - accuracy: 0.94 - 2s 914ms/step - loss: 0.1168 - accuracy: 0.955 - 2s 683ms/step - loss: 0.1129 - accuracy: 0.957 - 2s 564ms/step - loss: 0.1082 - accuracy: 0.961 - 2s 492ms/step - loss: 0.1100 - accuracy: 0.962 - 3s 444ms/step - loss: 0.1091 - accuracy: 0.963 - 3s 402ms/step - loss: 0.1113 - accuracy: 0.962 - 3s 373ms/step - loss: 0.1114 - accuracy: 0.961 - 3s 350ms/step - loss: 0.1097 - accuracy: 0.962 - 3s 331ms/step - loss: 0.1090 - accuracy: 0.962 - 3s 317ms/step - loss: 0.1101 - accuracy: 0.962 - 4s 304ms/step - loss: 0.1089 - accuracy: 0.963 - 4s 294ms/step - loss: 0.1088 - accuracy: 0.964 - 4s 285ms/step - loss: 0.1079 - accuracy: 0.965 - 4s 278ms/step - loss: 0.1090 - accuracy: 0.964 - 4s 270ms/step - loss: 0.1072 - accuracy: 0.965 - 4s 264ms/step - loss: 0.1071 - accuracy: 0.965 - 5s 259ms/step - loss: 0.1061 - accuracy: 0.965 - 5s 253ms/step - loss: 0.1055 - accuracy: 0.965 - 5s 250ms/step - loss: 0.1058 - accuracy: 0.965 - 5s 246ms/step - loss: 0.1061 - accuracy: 0.965 - 5s 242ms/step - loss: 0.1066 - accuracy: 0.965 - 6s 240ms/step - loss: 0.1062 - accuracy: 0.965 - 6s 237ms/step - loss: 0.1059 - accuracy: 0.965 - 6s 234ms/step - loss: 0.1056 - accuracy: 0.964 - 6s 233ms/step - loss: 0.1049 - accuracy: 0.965 - 6s 230ms/step - loss: 0.1052 - accuracy: 0.964 - 6s 229ms/step - loss: 0.1059 - accuracy: 0.964 - 7s 227ms/step - loss: 0.1066 - accuracy: 0.964 - 7s 225ms/step - loss: 0.1074 - accuracy: 0.964 - 7s 222ms/step - loss: 0.1077 - accuracy: 0.964 - 7s 221ms/step - loss: 0.1081 - accuracy: 0.964 - 7s 219ms/step - loss: 0.1079 - accuracy: 0.964 - 7s 217ms/step - loss: 0.1083 - accuracy: 0.964 - 8s 216ms/step - loss: 0.1079 - accuracy: 0.964 - 8s 213ms/step - loss: 0.1078 - accuracy: 0.963 - 8s 210ms/step - loss: 0.1075 - accuracy: 0.963 - 8s 207ms/step - loss: 0.1074 - accuracy: 0.963 - 8s 205ms/step - loss: 0.1068 - accuracy: 0.964 - 8s 204ms/step - loss: 0.1068 - accuracy: 0.964 - 8s 203ms/step - loss: 0.1073 - accuracy: 0.964 - 8s 201ms/step - loss: 0.1073 - accuracy: 0.964 - 9s 200ms/step - loss: 0.1076 - accuracy: 0.964 - 9s 199ms/step - loss: 0.1076 - accuracy: 0.964 - 9s 198ms/step - loss: 0.1074 - accuracy: 0.964 - 9s 196ms/step - loss: 0.1069 - accuracy: 0.964 - 9s 195ms/step - loss: 0.1069 - accuracy: 0.964 - 9s 194ms/step - loss: 0.1073 - accuracy: 0.963 - 9s 193ms/step - loss: 0.1073 - accuracy: 0.963 - 9s 193ms/step - loss: 0.1073 - accuracy: 0.9639\n",
      "Epoch 2/20\n",
      "49/49 [==============================] - ETA: 1:09 - loss: 0.1125 - accuracy: 0.95 - ETA: 38s - loss: 0.1090 - accuracy: 0.9629 - ETA: 28s - loss: 0.1104 - accuracy: 0.965 - ETA: 22s - loss: 0.1111 - accuracy: 0.966 - ETA: 19s - loss: 0.1057 - accuracy: 0.968 - ETA: 16s - loss: 0.1019 - accuracy: 0.970 - ETA: 14s - loss: 0.1027 - accuracy: 0.969 - ETA: 13s - loss: 0.1046 - accuracy: 0.967 - ETA: 12s - loss: 0.1029 - accuracy: 0.968 - ETA: 11s - loss: 0.1022 - accuracy: 0.967 - ETA: 10s - loss: 0.1010 - accuracy: 0.968 - ETA: 9s - loss: 0.1009 - accuracy: 0.968 - ETA: 9s - loss: 0.0993 - accuracy: 0.96 - ETA: 8s - loss: 0.0986 - accuracy: 0.97 - ETA: 8s - loss: 0.0991 - accuracy: 0.97 - ETA: 7s - loss: 0.0984 - accuracy: 0.97 - ETA: 7s - loss: 0.0985 - accuracy: 0.97 - ETA: 7s - loss: 0.0990 - accuracy: 0.97 - ETA: 6s - loss: 0.0979 - accuracy: 0.97 - ETA: 6s - loss: 0.0982 - accuracy: 0.97 - ETA: 5s - loss: 0.0986 - accuracy: 0.96 - ETA: 5s - loss: 0.0980 - accuracy: 0.97 - ETA: 5s - loss: 0.0989 - accuracy: 0.97 - ETA: 5s - loss: 0.0984 - accuracy: 0.97 - ETA: 4s - loss: 0.0984 - accuracy: 0.97 - ETA: 4s - loss: 0.0976 - accuracy: 0.97 - ETA: 4s - loss: 0.0984 - accuracy: 0.96 - ETA: 4s - loss: 0.0986 - accuracy: 0.96 - ETA: 3s - loss: 0.0996 - accuracy: 0.96 - ETA: 3s - loss: 0.0997 - accuracy: 0.96 - ETA: 3s - loss: 0.0993 - accuracy: 0.96 - ETA: 3s - loss: 0.0991 - accuracy: 0.96 - ETA: 3s - loss: 0.0987 - accuracy: 0.96 - ETA: 2s - loss: 0.0985 - accuracy: 0.96 - ETA: 2s - loss: 0.0990 - accuracy: 0.96 - ETA: 2s - loss: 0.0992 - accuracy: 0.96 - ETA: 2s - loss: 0.0997 - accuracy: 0.96 - ETA: 2s - loss: 0.0997 - accuracy: 0.96 - ETA: 1s - loss: 0.0999 - accuracy: 0.96 - ETA: 1s - loss: 0.1002 - accuracy: 0.96 - ETA: 1s - loss: 0.1000 - accuracy: 0.96 - ETA: 1s - loss: 0.0996 - accuracy: 0.96 - ETA: 1s - loss: 0.1000 - accuracy: 0.96 - ETA: 0s - loss: 0.1005 - accuracy: 0.96 - ETA: 0s - loss: 0.1007 - accuracy: 0.96 - ETA: 0s - loss: 0.1006 - accuracy: 0.96 - ETA: 0s - loss: 0.1009 - accuracy: 0.96 - ETA: 0s - loss: 0.1008 - accuracy: 0.96 - 9s 177ms/step - loss: 0.1008 - accuracy: 0.9672\n",
      "Epoch 3/20\n",
      "49/49 [==============================] - ETA: 1:11 - loss: 0.0782 - accuracy: 0.98 - ETA: 39s - loss: 0.0774 - accuracy: 0.9814 - ETA: 28s - loss: 0.0780 - accuracy: 0.979 - ETA: 23s - loss: 0.0838 - accuracy: 0.978 - ETA: 20s - loss: 0.0891 - accuracy: 0.976 - ETA: 17s - loss: 0.0903 - accuracy: 0.974 - ETA: 15s - loss: 0.0914 - accuracy: 0.974 - ETA: 14s - loss: 0.0910 - accuracy: 0.973 - ETA: 12s - loss: 0.0929 - accuracy: 0.973 - ETA: 11s - loss: 0.0932 - accuracy: 0.972 - ETA: 11s - loss: 0.0921 - accuracy: 0.973 - ETA: 10s - loss: 0.0932 - accuracy: 0.972 - ETA: 9s - loss: 0.0924 - accuracy: 0.972 - ETA: 9s - loss: 0.0914 - accuracy: 0.97 - ETA: 8s - loss: 0.0909 - accuracy: 0.97 - ETA: 8s - loss: 0.0919 - accuracy: 0.97 - ETA: 7s - loss: 0.0924 - accuracy: 0.97 - ETA: 7s - loss: 0.0927 - accuracy: 0.97 - ETA: 7s - loss: 0.0932 - accuracy: 0.97 - ETA: 6s - loss: 0.0938 - accuracy: 0.97 - ETA: 6s - loss: 0.0935 - accuracy: 0.97 - ETA: 6s - loss: 0.0929 - accuracy: 0.97 - ETA: 5s - loss: 0.0938 - accuracy: 0.97 - ETA: 5s - loss: 0.0943 - accuracy: 0.96 - ETA: 5s - loss: 0.0954 - accuracy: 0.96 - ETA: 5s - loss: 0.0952 - accuracy: 0.96 - ETA: 4s - loss: 0.0946 - accuracy: 0.96 - ETA: 4s - loss: 0.0939 - accuracy: 0.97 - ETA: 4s - loss: 0.0948 - accuracy: 0.97 - ETA: 3s - loss: 0.0945 - accuracy: 0.97 - ETA: 3s - loss: 0.0948 - accuracy: 0.97 - ETA: 3s - loss: 0.0946 - accuracy: 0.97 - ETA: 3s - loss: 0.0946 - accuracy: 0.97 - ETA: 3s - loss: 0.0945 - accuracy: 0.96 - ETA: 2s - loss: 0.0947 - accuracy: 0.96 - ETA: 2s - loss: 0.0952 - accuracy: 0.96 - ETA: 2s - loss: 0.0948 - accuracy: 0.96 - ETA: 2s - loss: 0.0944 - accuracy: 0.96 - ETA: 1s - loss: 0.0945 - accuracy: 0.96 - ETA: 1s - loss: 0.0945 - accuracy: 0.96 - ETA: 1s - loss: 0.0943 - accuracy: 0.96 - ETA: 1s - loss: 0.0940 - accuracy: 0.96 - ETA: 1s - loss: 0.0940 - accuracy: 0.96 - ETA: 0s - loss: 0.0943 - accuracy: 0.96 - ETA: 0s - loss: 0.0937 - accuracy: 0.96 - ETA: 0s - loss: 0.0941 - accuracy: 0.96 - ETA: 0s - loss: 0.0944 - accuracy: 0.96 - ETA: 0s - loss: 0.0942 - accuracy: 0.96 - 9s 186ms/step - loss: 0.0942 - accuracy: 0.9696\n",
      "Epoch 4/20\n"
     ]
    },
    {
     "name": "stdout",
     "output_type": "stream",
     "text": [
      "49/49 [==============================] - ETA: 1:10 - loss: 0.0773 - accuracy: 0.98 - ETA: 38s - loss: 0.0794 - accuracy: 0.9834 - ETA: 27s - loss: 0.0794 - accuracy: 0.982 - ETA: 22s - loss: 0.0824 - accuracy: 0.979 - ETA: 18s - loss: 0.0864 - accuracy: 0.976 - ETA: 16s - loss: 0.0856 - accuracy: 0.975 - ETA: 14s - loss: 0.0829 - accuracy: 0.977 - ETA: 13s - loss: 0.0898 - accuracy: 0.971 - ETA: 12s - loss: 0.0893 - accuracy: 0.971 - ETA: 11s - loss: 0.0887 - accuracy: 0.971 - ETA: 10s - loss: 0.0883 - accuracy: 0.971 - ETA: 9s - loss: 0.0888 - accuracy: 0.970 - ETA: 9s - loss: 0.0879 - accuracy: 0.97 - ETA: 8s - loss: 0.0887 - accuracy: 0.97 - ETA: 8s - loss: 0.0889 - accuracy: 0.97 - ETA: 7s - loss: 0.0893 - accuracy: 0.97 - ETA: 7s - loss: 0.0896 - accuracy: 0.97 - ETA: 6s - loss: 0.0906 - accuracy: 0.97 - ETA: 6s - loss: 0.0902 - accuracy: 0.97 - ETA: 6s - loss: 0.0901 - accuracy: 0.97 - ETA: 5s - loss: 0.0907 - accuracy: 0.97 - ETA: 5s - loss: 0.0900 - accuracy: 0.97 - ETA: 5s - loss: 0.0893 - accuracy: 0.97 - ETA: 5s - loss: 0.0897 - accuracy: 0.97 - ETA: 4s - loss: 0.0894 - accuracy: 0.97 - ETA: 4s - loss: 0.0890 - accuracy: 0.97 - ETA: 4s - loss: 0.0879 - accuracy: 0.97 - ETA: 4s - loss: 0.0881 - accuracy: 0.97 - ETA: 3s - loss: 0.0879 - accuracy: 0.97 - ETA: 3s - loss: 0.0877 - accuracy: 0.97 - ETA: 3s - loss: 0.0879 - accuracy: 0.97 - ETA: 3s - loss: 0.0879 - accuracy: 0.97 - ETA: 2s - loss: 0.0879 - accuracy: 0.97 - ETA: 2s - loss: 0.0883 - accuracy: 0.97 - ETA: 2s - loss: 0.0878 - accuracy: 0.97 - ETA: 2s - loss: 0.0880 - accuracy: 0.97 - ETA: 2s - loss: 0.0881 - accuracy: 0.97 - ETA: 1s - loss: 0.0888 - accuracy: 0.97 - ETA: 1s - loss: 0.0886 - accuracy: 0.97 - ETA: 1s - loss: 0.0884 - accuracy: 0.97 - ETA: 1s - loss: 0.0891 - accuracy: 0.97 - ETA: 1s - loss: 0.0891 - accuracy: 0.97 - ETA: 1s - loss: 0.0895 - accuracy: 0.97 - ETA: 0s - loss: 0.0895 - accuracy: 0.97 - ETA: 0s - loss: 0.0897 - accuracy: 0.97 - ETA: 0s - loss: 0.0897 - accuracy: 0.97 - ETA: 0s - loss: 0.0901 - accuracy: 0.97 - ETA: 0s - loss: 0.0904 - accuracy: 0.97 - 8s 170ms/step - loss: 0.0904 - accuracy: 0.9710\n",
      "Epoch 5/20\n",
      "49/49 [==============================] - ETA: 59s - loss: 0.0891 - accuracy: 0.974 - ETA: 33s - loss: 0.0777 - accuracy: 0.977 - ETA: 24s - loss: 0.0796 - accuracy: 0.977 - ETA: 20s - loss: 0.0799 - accuracy: 0.976 - ETA: 17s - loss: 0.0784 - accuracy: 0.975 - ETA: 15s - loss: 0.0791 - accuracy: 0.973 - ETA: 13s - loss: 0.0768 - accuracy: 0.974 - ETA: 12s - loss: 0.0782 - accuracy: 0.974 - ETA: 11s - loss: 0.0791 - accuracy: 0.975 - ETA: 10s - loss: 0.0801 - accuracy: 0.975 - ETA: 10s - loss: 0.0798 - accuracy: 0.976 - ETA: 9s - loss: 0.0823 - accuracy: 0.974 - ETA: 9s - loss: 0.0829 - accuracy: 0.97 - ETA: 8s - loss: 0.0839 - accuracy: 0.97 - ETA: 8s - loss: 0.0841 - accuracy: 0.97 - ETA: 7s - loss: 0.0841 - accuracy: 0.97 - ETA: 7s - loss: 0.0836 - accuracy: 0.97 - ETA: 6s - loss: 0.0835 - accuracy: 0.97 - ETA: 6s - loss: 0.0835 - accuracy: 0.97 - ETA: 6s - loss: 0.0832 - accuracy: 0.97 - ETA: 5s - loss: 0.0836 - accuracy: 0.97 - ETA: 5s - loss: 0.0844 - accuracy: 0.97 - ETA: 5s - loss: 0.0838 - accuracy: 0.97 - ETA: 5s - loss: 0.0841 - accuracy: 0.97 - ETA: 4s - loss: 0.0839 - accuracy: 0.97 - ETA: 4s - loss: 0.0846 - accuracy: 0.97 - ETA: 4s - loss: 0.0843 - accuracy: 0.97 - ETA: 4s - loss: 0.0845 - accuracy: 0.97 - ETA: 3s - loss: 0.0856 - accuracy: 0.97 - ETA: 3s - loss: 0.0853 - accuracy: 0.97 - ETA: 3s - loss: 0.0856 - accuracy: 0.97 - ETA: 3s - loss: 0.0853 - accuracy: 0.97 - ETA: 3s - loss: 0.0856 - accuracy: 0.97 - ETA: 2s - loss: 0.0854 - accuracy: 0.97 - ETA: 2s - loss: 0.0849 - accuracy: 0.97 - ETA: 2s - loss: 0.0844 - accuracy: 0.97 - ETA: 2s - loss: 0.0848 - accuracy: 0.97 - ETA: 2s - loss: 0.0846 - accuracy: 0.97 - ETA: 1s - loss: 0.0844 - accuracy: 0.97 - ETA: 1s - loss: 0.0838 - accuracy: 0.97 - ETA: 1s - loss: 0.0837 - accuracy: 0.97 - ETA: 1s - loss: 0.0836 - accuracy: 0.97 - ETA: 1s - loss: 0.0838 - accuracy: 0.97 - ETA: 0s - loss: 0.0833 - accuracy: 0.97 - ETA: 0s - loss: 0.0835 - accuracy: 0.97 - ETA: 0s - loss: 0.0840 - accuracy: 0.97 - ETA: 0s - loss: 0.0837 - accuracy: 0.97 - ETA: 0s - loss: 0.0836 - accuracy: 0.97 - 9s 177ms/step - loss: 0.0836 - accuracy: 0.9743\n",
      "Epoch 6/20\n",
      "49/49 [==============================] - ETA: 52s - loss: 0.0699 - accuracy: 0.982 - ETA: 29s - loss: 0.0727 - accuracy: 0.979 - ETA: 21s - loss: 0.0739 - accuracy: 0.976 - ETA: 17s - loss: 0.0716 - accuracy: 0.977 - ETA: 15s - loss: 0.0753 - accuracy: 0.976 - ETA: 14s - loss: 0.0786 - accuracy: 0.974 - ETA: 12s - loss: 0.0772 - accuracy: 0.975 - ETA: 11s - loss: 0.0776 - accuracy: 0.975 - ETA: 10s - loss: 0.0784 - accuracy: 0.974 - ETA: 9s - loss: 0.0792 - accuracy: 0.974 - ETA: 9s - loss: 0.0785 - accuracy: 0.97 - ETA: 8s - loss: 0.0774 - accuracy: 0.97 - ETA: 8s - loss: 0.0777 - accuracy: 0.97 - ETA: 7s - loss: 0.0762 - accuracy: 0.97 - ETA: 7s - loss: 0.0775 - accuracy: 0.97 - ETA: 7s - loss: 0.0787 - accuracy: 0.97 - ETA: 6s - loss: 0.0787 - accuracy: 0.97 - ETA: 6s - loss: 0.0788 - accuracy: 0.97 - ETA: 6s - loss: 0.0776 - accuracy: 0.97 - ETA: 5s - loss: 0.0772 - accuracy: 0.97 - ETA: 5s - loss: 0.0780 - accuracy: 0.97 - ETA: 5s - loss: 0.0781 - accuracy: 0.97 - ETA: 5s - loss: 0.0780 - accuracy: 0.97 - ETA: 4s - loss: 0.0786 - accuracy: 0.97 - ETA: 4s - loss: 0.0787 - accuracy: 0.97 - ETA: 4s - loss: 0.0790 - accuracy: 0.97 - ETA: 4s - loss: 0.0790 - accuracy: 0.97 - ETA: 3s - loss: 0.0787 - accuracy: 0.97 - ETA: 3s - loss: 0.0792 - accuracy: 0.97 - ETA: 3s - loss: 0.0788 - accuracy: 0.97 - ETA: 3s - loss: 0.0783 - accuracy: 0.97 - ETA: 2s - loss: 0.0780 - accuracy: 0.97 - ETA: 2s - loss: 0.0780 - accuracy: 0.97 - ETA: 2s - loss: 0.0778 - accuracy: 0.97 - ETA: 2s - loss: 0.0786 - accuracy: 0.97 - ETA: 2s - loss: 0.0788 - accuracy: 0.97 - ETA: 1s - loss: 0.0785 - accuracy: 0.97 - ETA: 1s - loss: 0.0780 - accuracy: 0.97 - ETA: 1s - loss: 0.0778 - accuracy: 0.97 - ETA: 1s - loss: 0.0776 - accuracy: 0.97 - ETA: 1s - loss: 0.0776 - accuracy: 0.97 - ETA: 1s - loss: 0.0778 - accuracy: 0.97 - ETA: 0s - loss: 0.0781 - accuracy: 0.97 - ETA: 0s - loss: 0.0784 - accuracy: 0.97 - ETA: 0s - loss: 0.0786 - accuracy: 0.97 - ETA: 0s - loss: 0.0785 - accuracy: 0.97 - ETA: 0s - loss: 0.0783 - accuracy: 0.97 - ETA: 0s - loss: 0.0786 - accuracy: 0.97 - 8s 161ms/step - loss: 0.0786 - accuracy: 0.9758\n",
      "Epoch 7/20\n"
     ]
    },
    {
     "name": "stdout",
     "output_type": "stream",
     "text": [
      "49/49 [==============================] - ETA: 41s - loss: 0.0726 - accuracy: 0.974 - ETA: 23s - loss: 0.0696 - accuracy: 0.976 - ETA: 17s - loss: 0.0667 - accuracy: 0.980 - ETA: 15s - loss: 0.0681 - accuracy: 0.980 - ETA: 13s - loss: 0.0696 - accuracy: 0.980 - ETA: 11s - loss: 0.0695 - accuracy: 0.980 - ETA: 10s - loss: 0.0717 - accuracy: 0.980 - ETA: 9s - loss: 0.0711 - accuracy: 0.980 - ETA: 8s - loss: 0.0698 - accuracy: 0.98 - ETA: 8s - loss: 0.0689 - accuracy: 0.98 - ETA: 7s - loss: 0.0713 - accuracy: 0.97 - ETA: 7s - loss: 0.0716 - accuracy: 0.97 - ETA: 6s - loss: 0.0721 - accuracy: 0.97 - ETA: 6s - loss: 0.0730 - accuracy: 0.97 - ETA: 5s - loss: 0.0723 - accuracy: 0.97 - ETA: 5s - loss: 0.0725 - accuracy: 0.97 - ETA: 5s - loss: 0.0726 - accuracy: 0.97 - ETA: 5s - loss: 0.0726 - accuracy: 0.97 - ETA: 4s - loss: 0.0728 - accuracy: 0.97 - ETA: 4s - loss: 0.0732 - accuracy: 0.97 - ETA: 4s - loss: 0.0728 - accuracy: 0.97 - ETA: 4s - loss: 0.0728 - accuracy: 0.97 - ETA: 4s - loss: 0.0725 - accuracy: 0.97 - ETA: 4s - loss: 0.0724 - accuracy: 0.97 - ETA: 3s - loss: 0.0728 - accuracy: 0.97 - ETA: 3s - loss: 0.0726 - accuracy: 0.97 - ETA: 3s - loss: 0.0728 - accuracy: 0.97 - ETA: 3s - loss: 0.0731 - accuracy: 0.97 - ETA: 3s - loss: 0.0738 - accuracy: 0.97 - ETA: 3s - loss: 0.0733 - accuracy: 0.97 - ETA: 2s - loss: 0.0733 - accuracy: 0.97 - ETA: 2s - loss: 0.0731 - accuracy: 0.97 - ETA: 2s - loss: 0.0734 - accuracy: 0.97 - ETA: 2s - loss: 0.0730 - accuracy: 0.97 - ETA: 2s - loss: 0.0732 - accuracy: 0.97 - ETA: 2s - loss: 0.0733 - accuracy: 0.97 - ETA: 1s - loss: 0.0739 - accuracy: 0.97 - ETA: 1s - loss: 0.0745 - accuracy: 0.97 - ETA: 1s - loss: 0.0744 - accuracy: 0.97 - ETA: 1s - loss: 0.0744 - accuracy: 0.97 - ETA: 1s - loss: 0.0744 - accuracy: 0.97 - ETA: 1s - loss: 0.0742 - accuracy: 0.97 - ETA: 0s - loss: 0.0743 - accuracy: 0.97 - ETA: 0s - loss: 0.0741 - accuracy: 0.97 - ETA: 0s - loss: 0.0745 - accuracy: 0.97 - ETA: 0s - loss: 0.0745 - accuracy: 0.97 - ETA: 0s - loss: 0.0746 - accuracy: 0.97 - ETA: 0s - loss: 0.0746 - accuracy: 0.97 - 7s 151ms/step - loss: 0.0746 - accuracy: 0.9784\n",
      "Epoch 8/20\n",
      "49/49 [==============================] - ETA: 1:08 - loss: 0.0636 - accuracy: 0.97 - ETA: 38s - loss: 0.0691 - accuracy: 0.9775 - ETA: 27s - loss: 0.0689 - accuracy: 0.978 - ETA: 22s - loss: 0.0721 - accuracy: 0.976 - ETA: 19s - loss: 0.0738 - accuracy: 0.976 - ETA: 17s - loss: 0.0726 - accuracy: 0.977 - ETA: 15s - loss: 0.0724 - accuracy: 0.978 - ETA: 13s - loss: 0.0730 - accuracy: 0.977 - ETA: 12s - loss: 0.0732 - accuracy: 0.978 - ETA: 11s - loss: 0.0727 - accuracy: 0.979 - ETA: 10s - loss: 0.0720 - accuracy: 0.979 - ETA: 10s - loss: 0.0715 - accuracy: 0.978 - ETA: 9s - loss: 0.0716 - accuracy: 0.978 - ETA: 8s - loss: 0.0716 - accuracy: 0.97 - ETA: 8s - loss: 0.0709 - accuracy: 0.97 - ETA: 8s - loss: 0.0702 - accuracy: 0.97 - ETA: 7s - loss: 0.0691 - accuracy: 0.97 - ETA: 7s - loss: 0.0687 - accuracy: 0.97 - ETA: 7s - loss: 0.0679 - accuracy: 0.97 - ETA: 6s - loss: 0.0678 - accuracy: 0.98 - ETA: 6s - loss: 0.0678 - accuracy: 0.98 - ETA: 5s - loss: 0.0680 - accuracy: 0.98 - ETA: 5s - loss: 0.0675 - accuracy: 0.98 - ETA: 5s - loss: 0.0675 - accuracy: 0.98 - ETA: 5s - loss: 0.0673 - accuracy: 0.98 - ETA: 4s - loss: 0.0673 - accuracy: 0.98 - ETA: 4s - loss: 0.0678 - accuracy: 0.98 - ETA: 4s - loss: 0.0681 - accuracy: 0.98 - ETA: 4s - loss: 0.0682 - accuracy: 0.98 - ETA: 3s - loss: 0.0690 - accuracy: 0.98 - ETA: 3s - loss: 0.0694 - accuracy: 0.98 - ETA: 3s - loss: 0.0693 - accuracy: 0.98 - ETA: 3s - loss: 0.0692 - accuracy: 0.98 - ETA: 2s - loss: 0.0688 - accuracy: 0.98 - ETA: 2s - loss: 0.0687 - accuracy: 0.98 - ETA: 2s - loss: 0.0688 - accuracy: 0.98 - ETA: 2s - loss: 0.0689 - accuracy: 0.98 - ETA: 2s - loss: 0.0697 - accuracy: 0.97 - ETA: 1s - loss: 0.0695 - accuracy: 0.97 - ETA: 1s - loss: 0.0696 - accuracy: 0.97 - ETA: 1s - loss: 0.0695 - accuracy: 0.97 - ETA: 1s - loss: 0.0696 - accuracy: 0.97 - ETA: 1s - loss: 0.0698 - accuracy: 0.97 - ETA: 0s - loss: 0.0694 - accuracy: 0.97 - ETA: 0s - loss: 0.0693 - accuracy: 0.98 - ETA: 0s - loss: 0.0693 - accuracy: 0.97 - ETA: 0s - loss: 0.0690 - accuracy: 0.98 - ETA: 0s - loss: 0.0694 - accuracy: 0.97 - 9s 177ms/step - loss: 0.0694 - accuracy: 0.9797\n",
      "Epoch 9/20\n",
      "49/49 [==============================] - ETA: 59s - loss: 0.0544 - accuracy: 0.978 - ETA: 32s - loss: 0.0576 - accuracy: 0.982 - ETA: 24s - loss: 0.0599 - accuracy: 0.983 - ETA: 19s - loss: 0.0602 - accuracy: 0.982 - ETA: 16s - loss: 0.0624 - accuracy: 0.981 - ETA: 14s - loss: 0.0634 - accuracy: 0.982 - ETA: 12s - loss: 0.0632 - accuracy: 0.982 - ETA: 11s - loss: 0.0625 - accuracy: 0.982 - ETA: 10s - loss: 0.0628 - accuracy: 0.982 - ETA: 9s - loss: 0.0618 - accuracy: 0.982 - ETA: 8s - loss: 0.0620 - accuracy: 0.98 - ETA: 8s - loss: 0.0618 - accuracy: 0.98 - ETA: 7s - loss: 0.0620 - accuracy: 0.98 - ETA: 7s - loss: 0.0625 - accuracy: 0.98 - ETA: 7s - loss: 0.0626 - accuracy: 0.98 - ETA: 6s - loss: 0.0621 - accuracy: 0.98 - ETA: 6s - loss: 0.0624 - accuracy: 0.98 - ETA: 6s - loss: 0.0619 - accuracy: 0.98 - ETA: 5s - loss: 0.0619 - accuracy: 0.98 - ETA: 5s - loss: 0.0628 - accuracy: 0.98 - ETA: 5s - loss: 0.0627 - accuracy: 0.98 - ETA: 4s - loss: 0.0628 - accuracy: 0.98 - ETA: 4s - loss: 0.0632 - accuracy: 0.98 - ETA: 4s - loss: 0.0638 - accuracy: 0.98 - ETA: 4s - loss: 0.0640 - accuracy: 0.98 - ETA: 4s - loss: 0.0638 - accuracy: 0.98 - ETA: 3s - loss: 0.0650 - accuracy: 0.98 - ETA: 3s - loss: 0.0645 - accuracy: 0.98 - ETA: 3s - loss: 0.0648 - accuracy: 0.98 - ETA: 3s - loss: 0.0655 - accuracy: 0.98 - ETA: 3s - loss: 0.0654 - accuracy: 0.98 - ETA: 2s - loss: 0.0650 - accuracy: 0.98 - ETA: 2s - loss: 0.0651 - accuracy: 0.98 - ETA: 2s - loss: 0.0653 - accuracy: 0.98 - ETA: 2s - loss: 0.0654 - accuracy: 0.98 - ETA: 2s - loss: 0.0651 - accuracy: 0.98 - ETA: 1s - loss: 0.0647 - accuracy: 0.98 - ETA: 1s - loss: 0.0646 - accuracy: 0.98 - ETA: 1s - loss: 0.0642 - accuracy: 0.98 - ETA: 1s - loss: 0.0643 - accuracy: 0.98 - ETA: 1s - loss: 0.0645 - accuracy: 0.98 - ETA: 1s - loss: 0.0648 - accuracy: 0.98 - ETA: 0s - loss: 0.0648 - accuracy: 0.98 - ETA: 0s - loss: 0.0654 - accuracy: 0.98 - ETA: 0s - loss: 0.0653 - accuracy: 0.98 - ETA: 0s - loss: 0.0652 - accuracy: 0.98 - ETA: 0s - loss: 0.0651 - accuracy: 0.98 - ETA: 0s - loss: 0.0650 - accuracy: 0.98 - 8s 161ms/step - loss: 0.0650 - accuracy: 0.9818\n",
      "Epoch 10/20\n"
     ]
    },
    {
     "name": "stdout",
     "output_type": "stream",
     "text": [
      "49/49 [==============================] - ETA: 1:07 - loss: 0.0670 - accuracy: 0.97 - ETA: 37s - loss: 0.0581 - accuracy: 0.9824 - ETA: 26s - loss: 0.0589 - accuracy: 0.981 - ETA: 21s - loss: 0.0642 - accuracy: 0.982 - ETA: 18s - loss: 0.0640 - accuracy: 0.981 - ETA: 16s - loss: 0.0641 - accuracy: 0.982 - ETA: 14s - loss: 0.0624 - accuracy: 0.983 - ETA: 13s - loss: 0.0616 - accuracy: 0.983 - ETA: 12s - loss: 0.0614 - accuracy: 0.983 - ETA: 11s - loss: 0.0607 - accuracy: 0.983 - ETA: 10s - loss: 0.0608 - accuracy: 0.984 - ETA: 9s - loss: 0.0607 - accuracy: 0.983 - ETA: 9s - loss: 0.0606 - accuracy: 0.98 - ETA: 8s - loss: 0.0602 - accuracy: 0.98 - ETA: 8s - loss: 0.0589 - accuracy: 0.98 - ETA: 7s - loss: 0.0586 - accuracy: 0.98 - ETA: 7s - loss: 0.0584 - accuracy: 0.98 - ETA: 6s - loss: 0.0592 - accuracy: 0.98 - ETA: 6s - loss: 0.0592 - accuracy: 0.98 - ETA: 6s - loss: 0.0592 - accuracy: 0.98 - ETA: 5s - loss: 0.0586 - accuracy: 0.98 - ETA: 5s - loss: 0.0584 - accuracy: 0.98 - ETA: 5s - loss: 0.0581 - accuracy: 0.98 - ETA: 5s - loss: 0.0585 - accuracy: 0.98 - ETA: 4s - loss: 0.0586 - accuracy: 0.98 - ETA: 4s - loss: 0.0588 - accuracy: 0.98 - ETA: 4s - loss: 0.0600 - accuracy: 0.98 - ETA: 4s - loss: 0.0596 - accuracy: 0.98 - ETA: 3s - loss: 0.0596 - accuracy: 0.98 - ETA: 3s - loss: 0.0595 - accuracy: 0.98 - ETA: 3s - loss: 0.0602 - accuracy: 0.98 - ETA: 3s - loss: 0.0603 - accuracy: 0.98 - ETA: 3s - loss: 0.0601 - accuracy: 0.98 - ETA: 2s - loss: 0.0602 - accuracy: 0.98 - ETA: 2s - loss: 0.0599 - accuracy: 0.98 - ETA: 2s - loss: 0.0604 - accuracy: 0.98 - ETA: 2s - loss: 0.0609 - accuracy: 0.98 - ETA: 2s - loss: 0.0614 - accuracy: 0.98 - ETA: 1s - loss: 0.0614 - accuracy: 0.98 - ETA: 1s - loss: 0.0610 - accuracy: 0.98 - ETA: 1s - loss: 0.0610 - accuracy: 0.98 - ETA: 1s - loss: 0.0608 - accuracy: 0.98 - ETA: 1s - loss: 0.0609 - accuracy: 0.98 - ETA: 0s - loss: 0.0610 - accuracy: 0.98 - ETA: 0s - loss: 0.0611 - accuracy: 0.98 - ETA: 0s - loss: 0.0612 - accuracy: 0.98 - ETA: 0s - loss: 0.0611 - accuracy: 0.98 - ETA: 0s - loss: 0.0614 - accuracy: 0.98 - 9s 178ms/step - loss: 0.0614 - accuracy: 0.9832\n",
      "Epoch 11/20\n",
      "49/49 [==============================] - ETA: 1:04 - loss: 0.0533 - accuracy: 0.98 - ETA: 36s - loss: 0.0565 - accuracy: 0.9805 - ETA: 27s - loss: 0.0546 - accuracy: 0.982 - ETA: 22s - loss: 0.0513 - accuracy: 0.983 - ETA: 19s - loss: 0.0523 - accuracy: 0.985 - ETA: 17s - loss: 0.0524 - accuracy: 0.985 - ETA: 15s - loss: 0.0538 - accuracy: 0.984 - ETA: 14s - loss: 0.0539 - accuracy: 0.984 - ETA: 13s - loss: 0.0534 - accuracy: 0.985 - ETA: 12s - loss: 0.0549 - accuracy: 0.985 - ETA: 11s - loss: 0.0549 - accuracy: 0.985 - ETA: 10s - loss: 0.0565 - accuracy: 0.984 - ETA: 9s - loss: 0.0560 - accuracy: 0.984 - ETA: 9s - loss: 0.0557 - accuracy: 0.98 - ETA: 8s - loss: 0.0555 - accuracy: 0.98 - ETA: 8s - loss: 0.0551 - accuracy: 0.98 - ETA: 8s - loss: 0.0560 - accuracy: 0.98 - ETA: 7s - loss: 0.0559 - accuracy: 0.98 - ETA: 7s - loss: 0.0563 - accuracy: 0.98 - ETA: 6s - loss: 0.0558 - accuracy: 0.98 - ETA: 6s - loss: 0.0558 - accuracy: 0.98 - ETA: 6s - loss: 0.0556 - accuracy: 0.98 - ETA: 5s - loss: 0.0564 - accuracy: 0.98 - ETA: 5s - loss: 0.0564 - accuracy: 0.98 - ETA: 5s - loss: 0.0564 - accuracy: 0.98 - ETA: 5s - loss: 0.0573 - accuracy: 0.98 - ETA: 4s - loss: 0.0568 - accuracy: 0.98 - ETA: 4s - loss: 0.0567 - accuracy: 0.98 - ETA: 4s - loss: 0.0571 - accuracy: 0.98 - ETA: 4s - loss: 0.0570 - accuracy: 0.98 - ETA: 3s - loss: 0.0570 - accuracy: 0.98 - ETA: 3s - loss: 0.0568 - accuracy: 0.98 - ETA: 3s - loss: 0.0565 - accuracy: 0.98 - ETA: 3s - loss: 0.0574 - accuracy: 0.98 - ETA: 2s - loss: 0.0572 - accuracy: 0.98 - ETA: 2s - loss: 0.0573 - accuracy: 0.98 - ETA: 2s - loss: 0.0573 - accuracy: 0.98 - ETA: 2s - loss: 0.0574 - accuracy: 0.98 - ETA: 1s - loss: 0.0575 - accuracy: 0.98 - ETA: 1s - loss: 0.0575 - accuracy: 0.98 - ETA: 1s - loss: 0.0572 - accuracy: 0.98 - ETA: 1s - loss: 0.0575 - accuracy: 0.98 - ETA: 1s - loss: 0.0574 - accuracy: 0.98 - ETA: 0s - loss: 0.0575 - accuracy: 0.98 - ETA: 0s - loss: 0.0573 - accuracy: 0.98 - ETA: 0s - loss: 0.0574 - accuracy: 0.98 - ETA: 0s - loss: 0.0573 - accuracy: 0.98 - ETA: 0s - loss: 0.0574 - accuracy: 0.98 - 9s 190ms/step - loss: 0.0574 - accuracy: 0.9851\n",
      "Epoch 12/20\n",
      "49/49 [==============================] - ETA: 1:15 - loss: 0.0725 - accuracy: 0.97 - ETA: 41s - loss: 0.0593 - accuracy: 0.9795 - ETA: 30s - loss: 0.0585 - accuracy: 0.980 - ETA: 24s - loss: 0.0577 - accuracy: 0.980 - ETA: 21s - loss: 0.0569 - accuracy: 0.983 - ETA: 18s - loss: 0.0569 - accuracy: 0.983 - ETA: 16s - loss: 0.0564 - accuracy: 0.983 - ETA: 14s - loss: 0.0568 - accuracy: 0.984 - ETA: 13s - loss: 0.0550 - accuracy: 0.985 - ETA: 12s - loss: 0.0543 - accuracy: 0.985 - ETA: 11s - loss: 0.0539 - accuracy: 0.985 - ETA: 11s - loss: 0.0532 - accuracy: 0.985 - ETA: 10s - loss: 0.0541 - accuracy: 0.984 - ETA: 9s - loss: 0.0536 - accuracy: 0.984 - ETA: 9s - loss: 0.0534 - accuracy: 0.98 - ETA: 8s - loss: 0.0533 - accuracy: 0.98 - ETA: 8s - loss: 0.0529 - accuracy: 0.98 - ETA: 7s - loss: 0.0528 - accuracy: 0.98 - ETA: 7s - loss: 0.0522 - accuracy: 0.98 - ETA: 7s - loss: 0.0529 - accuracy: 0.98 - ETA: 6s - loss: 0.0523 - accuracy: 0.98 - ETA: 6s - loss: 0.0524 - accuracy: 0.98 - ETA: 6s - loss: 0.0525 - accuracy: 0.98 - ETA: 5s - loss: 0.0531 - accuracy: 0.98 - ETA: 5s - loss: 0.0531 - accuracy: 0.98 - ETA: 5s - loss: 0.0530 - accuracy: 0.98 - ETA: 4s - loss: 0.0527 - accuracy: 0.98 - ETA: 4s - loss: 0.0528 - accuracy: 0.98 - ETA: 4s - loss: 0.0525 - accuracy: 0.98 - ETA: 4s - loss: 0.0524 - accuracy: 0.98 - ETA: 3s - loss: 0.0522 - accuracy: 0.98 - ETA: 3s - loss: 0.0521 - accuracy: 0.98 - ETA: 3s - loss: 0.0521 - accuracy: 0.98 - ETA: 3s - loss: 0.0524 - accuracy: 0.98 - ETA: 2s - loss: 0.0524 - accuracy: 0.98 - ETA: 2s - loss: 0.0527 - accuracy: 0.98 - ETA: 2s - loss: 0.0526 - accuracy: 0.98 - ETA: 2s - loss: 0.0525 - accuracy: 0.98 - ETA: 2s - loss: 0.0524 - accuracy: 0.98 - ETA: 1s - loss: 0.0529 - accuracy: 0.98 - ETA: 1s - loss: 0.0527 - accuracy: 0.98 - ETA: 1s - loss: 0.0531 - accuracy: 0.98 - ETA: 1s - loss: 0.0537 - accuracy: 0.98 - ETA: 0s - loss: 0.0535 - accuracy: 0.98 - ETA: 0s - loss: 0.0536 - accuracy: 0.98 - ETA: 0s - loss: 0.0539 - accuracy: 0.98 - ETA: 0s - loss: 0.0540 - accuracy: 0.98 - ETA: 0s - loss: 0.0538 - accuracy: 0.98 - 9s 191ms/step - loss: 0.0538 - accuracy: 0.9863\n",
      "Epoch 13/20\n"
     ]
    },
    {
     "name": "stdout",
     "output_type": "stream",
     "text": [
      "49/49 [==============================] - ETA: 1:12 - loss: 0.0429 - accuracy: 0.98 - ETA: 40s - loss: 0.0459 - accuracy: 0.9883 - ETA: 29s - loss: 0.0487 - accuracy: 0.988 - ETA: 24s - loss: 0.0484 - accuracy: 0.987 - ETA: 20s - loss: 0.0476 - accuracy: 0.986 - ETA: 18s - loss: 0.0484 - accuracy: 0.986 - ETA: 16s - loss: 0.0490 - accuracy: 0.985 - ETA: 14s - loss: 0.0499 - accuracy: 0.985 - ETA: 13s - loss: 0.0511 - accuracy: 0.985 - ETA: 12s - loss: 0.0512 - accuracy: 0.985 - ETA: 11s - loss: 0.0505 - accuracy: 0.985 - ETA: 10s - loss: 0.0509 - accuracy: 0.985 - ETA: 9s - loss: 0.0515 - accuracy: 0.985 - ETA: 9s - loss: 0.0511 - accuracy: 0.98 - ETA: 8s - loss: 0.0509 - accuracy: 0.98 - ETA: 8s - loss: 0.0500 - accuracy: 0.98 - ETA: 7s - loss: 0.0501 - accuracy: 0.98 - ETA: 7s - loss: 0.0495 - accuracy: 0.98 - ETA: 7s - loss: 0.0493 - accuracy: 0.98 - ETA: 6s - loss: 0.0488 - accuracy: 0.98 - ETA: 6s - loss: 0.0484 - accuracy: 0.98 - ETA: 6s - loss: 0.0484 - accuracy: 0.98 - ETA: 5s - loss: 0.0482 - accuracy: 0.98 - ETA: 5s - loss: 0.0476 - accuracy: 0.98 - ETA: 5s - loss: 0.0475 - accuracy: 0.98 - ETA: 5s - loss: 0.0471 - accuracy: 0.98 - ETA: 4s - loss: 0.0470 - accuracy: 0.98 - ETA: 4s - loss: 0.0468 - accuracy: 0.98 - ETA: 4s - loss: 0.0473 - accuracy: 0.98 - ETA: 3s - loss: 0.0476 - accuracy: 0.98 - ETA: 3s - loss: 0.0480 - accuracy: 0.98 - ETA: 3s - loss: 0.0478 - accuracy: 0.98 - ETA: 3s - loss: 0.0484 - accuracy: 0.98 - ETA: 2s - loss: 0.0490 - accuracy: 0.98 - ETA: 2s - loss: 0.0487 - accuracy: 0.98 - ETA: 2s - loss: 0.0485 - accuracy: 0.98 - ETA: 2s - loss: 0.0488 - accuracy: 0.98 - ETA: 2s - loss: 0.0490 - accuracy: 0.98 - ETA: 1s - loss: 0.0492 - accuracy: 0.98 - ETA: 1s - loss: 0.0501 - accuracy: 0.98 - ETA: 1s - loss: 0.0499 - accuracy: 0.98 - ETA: 1s - loss: 0.0502 - accuracy: 0.98 - ETA: 1s - loss: 0.0501 - accuracy: 0.98 - ETA: 0s - loss: 0.0504 - accuracy: 0.98 - ETA: 0s - loss: 0.0504 - accuracy: 0.98 - ETA: 0s - loss: 0.0502 - accuracy: 0.98 - ETA: 0s - loss: 0.0500 - accuracy: 0.98 - ETA: 0s - loss: 0.0499 - accuracy: 0.98 - 9s 181ms/step - loss: 0.0499 - accuracy: 0.9882\n",
      "Epoch 14/20\n",
      "49/49 [==============================] - ETA: 1:03 - loss: 0.0387 - accuracy: 0.98 - ETA: 35s - loss: 0.0437 - accuracy: 0.9883 - ETA: 26s - loss: 0.0434 - accuracy: 0.988 - ETA: 21s - loss: 0.0446 - accuracy: 0.988 - ETA: 18s - loss: 0.0453 - accuracy: 0.987 - ETA: 16s - loss: 0.0435 - accuracy: 0.988 - ETA: 14s - loss: 0.0452 - accuracy: 0.988 - ETA: 13s - loss: 0.0453 - accuracy: 0.988 - ETA: 12s - loss: 0.0443 - accuracy: 0.989 - ETA: 11s - loss: 0.0435 - accuracy: 0.989 - ETA: 10s - loss: 0.0439 - accuracy: 0.989 - ETA: 10s - loss: 0.0438 - accuracy: 0.989 - ETA: 9s - loss: 0.0439 - accuracy: 0.989 - ETA: 9s - loss: 0.0430 - accuracy: 0.98 - ETA: 8s - loss: 0.0427 - accuracy: 0.98 - ETA: 8s - loss: 0.0427 - accuracy: 0.98 - ETA: 7s - loss: 0.0432 - accuracy: 0.98 - ETA: 7s - loss: 0.0437 - accuracy: 0.98 - ETA: 7s - loss: 0.0438 - accuracy: 0.98 - ETA: 6s - loss: 0.0441 - accuracy: 0.98 - ETA: 6s - loss: 0.0439 - accuracy: 0.98 - ETA: 6s - loss: 0.0436 - accuracy: 0.98 - ETA: 5s - loss: 0.0440 - accuracy: 0.98 - ETA: 5s - loss: 0.0440 - accuracy: 0.99 - ETA: 5s - loss: 0.0442 - accuracy: 0.99 - ETA: 5s - loss: 0.0443 - accuracy: 0.99 - ETA: 4s - loss: 0.0448 - accuracy: 0.99 - ETA: 4s - loss: 0.0450 - accuracy: 0.99 - ETA: 4s - loss: 0.0457 - accuracy: 0.98 - ETA: 4s - loss: 0.0459 - accuracy: 0.98 - ETA: 3s - loss: 0.0464 - accuracy: 0.98 - ETA: 3s - loss: 0.0463 - accuracy: 0.98 - ETA: 3s - loss: 0.0463 - accuracy: 0.98 - ETA: 3s - loss: 0.0466 - accuracy: 0.98 - ETA: 2s - loss: 0.0465 - accuracy: 0.98 - ETA: 2s - loss: 0.0464 - accuracy: 0.98 - ETA: 2s - loss: 0.0463 - accuracy: 0.98 - ETA: 2s - loss: 0.0467 - accuracy: 0.98 - ETA: 2s - loss: 0.0464 - accuracy: 0.98 - ETA: 1s - loss: 0.0465 - accuracy: 0.98 - ETA: 1s - loss: 0.0467 - accuracy: 0.98 - ETA: 1s - loss: 0.0471 - accuracy: 0.98 - ETA: 1s - loss: 0.0470 - accuracy: 0.98 - ETA: 0s - loss: 0.0467 - accuracy: 0.98 - ETA: 0s - loss: 0.0466 - accuracy: 0.98 - ETA: 0s - loss: 0.0464 - accuracy: 0.98 - ETA: 0s - loss: 0.0463 - accuracy: 0.98 - ETA: 0s - loss: 0.0465 - accuracy: 0.98 - 9s 190ms/step - loss: 0.0465 - accuracy: 0.9893\n",
      "Epoch 15/20\n",
      "49/49 [==============================] - ETA: 1:14 - loss: 0.0429 - accuracy: 0.98 - ETA: 41s - loss: 0.0389 - accuracy: 0.9912 - ETA: 30s - loss: 0.0381 - accuracy: 0.992 - ETA: 24s - loss: 0.0395 - accuracy: 0.991 - ETA: 20s - loss: 0.0401 - accuracy: 0.991 - ETA: 18s - loss: 0.0419 - accuracy: 0.990 - ETA: 16s - loss: 0.0416 - accuracy: 0.990 - ETA: 14s - loss: 0.0411 - accuracy: 0.991 - ETA: 13s - loss: 0.0414 - accuracy: 0.990 - ETA: 12s - loss: 0.0427 - accuracy: 0.990 - ETA: 11s - loss: 0.0416 - accuracy: 0.990 - ETA: 10s - loss: 0.0407 - accuracy: 0.991 - ETA: 10s - loss: 0.0401 - accuracy: 0.991 - ETA: 9s - loss: 0.0404 - accuracy: 0.991 - ETA: 9s - loss: 0.0408 - accuracy: 0.99 - ETA: 8s - loss: 0.0411 - accuracy: 0.99 - ETA: 8s - loss: 0.0413 - accuracy: 0.99 - ETA: 7s - loss: 0.0423 - accuracy: 0.98 - ETA: 7s - loss: 0.0425 - accuracy: 0.99 - ETA: 6s - loss: 0.0431 - accuracy: 0.99 - ETA: 6s - loss: 0.0441 - accuracy: 0.98 - ETA: 6s - loss: 0.0440 - accuracy: 0.98 - ETA: 5s - loss: 0.0439 - accuracy: 0.98 - ETA: 5s - loss: 0.0438 - accuracy: 0.98 - ETA: 5s - loss: 0.0440 - accuracy: 0.98 - ETA: 5s - loss: 0.0436 - accuracy: 0.99 - ETA: 4s - loss: 0.0437 - accuracy: 0.98 - ETA: 4s - loss: 0.0447 - accuracy: 0.98 - ETA: 4s - loss: 0.0441 - accuracy: 0.98 - ETA: 4s - loss: 0.0440 - accuracy: 0.98 - ETA: 3s - loss: 0.0440 - accuracy: 0.98 - ETA: 3s - loss: 0.0445 - accuracy: 0.98 - ETA: 3s - loss: 0.0442 - accuracy: 0.98 - ETA: 3s - loss: 0.0438 - accuracy: 0.99 - ETA: 2s - loss: 0.0437 - accuracy: 0.99 - ETA: 2s - loss: 0.0444 - accuracy: 0.98 - ETA: 2s - loss: 0.0442 - accuracy: 0.98 - ETA: 2s - loss: 0.0441 - accuracy: 0.98 - ETA: 1s - loss: 0.0440 - accuracy: 0.98 - ETA: 1s - loss: 0.0440 - accuracy: 0.98 - ETA: 1s - loss: 0.0438 - accuracy: 0.98 - ETA: 1s - loss: 0.0436 - accuracy: 0.98 - ETA: 1s - loss: 0.0435 - accuracy: 0.98 - ETA: 0s - loss: 0.0435 - accuracy: 0.98 - ETA: 0s - loss: 0.0435 - accuracy: 0.98 - ETA: 0s - loss: 0.0433 - accuracy: 0.99 - ETA: 0s - loss: 0.0438 - accuracy: 0.98 - ETA: 0s - loss: 0.0441 - accuracy: 0.98 - 9s 188ms/step - loss: 0.0441 - accuracy: 0.9899\n",
      "Epoch 16/20\n"
     ]
    },
    {
     "name": "stdout",
     "output_type": "stream",
     "text": [
      "49/49 [==============================] - ETA: 1:18 - loss: 0.0329 - accuracy: 0.99 - ETA: 43s - loss: 0.0376 - accuracy: 0.9902 - ETA: 31s - loss: 0.0383 - accuracy: 0.988 - ETA: 25s - loss: 0.0396 - accuracy: 0.989 - ETA: 21s - loss: 0.0385 - accuracy: 0.991 - ETA: 19s - loss: 0.0379 - accuracy: 0.991 - ETA: 16s - loss: 0.0384 - accuracy: 0.991 - ETA: 15s - loss: 0.0382 - accuracy: 0.991 - ETA: 14s - loss: 0.0396 - accuracy: 0.991 - ETA: 12s - loss: 0.0391 - accuracy: 0.991 - ETA: 12s - loss: 0.0391 - accuracy: 0.991 - ETA: 11s - loss: 0.0394 - accuracy: 0.991 - ETA: 10s - loss: 0.0397 - accuracy: 0.991 - ETA: 10s - loss: 0.0391 - accuracy: 0.991 - ETA: 9s - loss: 0.0390 - accuracy: 0.991 - ETA: 8s - loss: 0.0394 - accuracy: 0.99 - ETA: 8s - loss: 0.0398 - accuracy: 0.99 - ETA: 8s - loss: 0.0400 - accuracy: 0.99 - ETA: 7s - loss: 0.0397 - accuracy: 0.99 - ETA: 7s - loss: 0.0400 - accuracy: 0.99 - ETA: 6s - loss: 0.0397 - accuracy: 0.99 - ETA: 6s - loss: 0.0398 - accuracy: 0.99 - ETA: 6s - loss: 0.0400 - accuracy: 0.99 - ETA: 5s - loss: 0.0397 - accuracy: 0.99 - ETA: 5s - loss: 0.0395 - accuracy: 0.99 - ETA: 5s - loss: 0.0398 - accuracy: 0.99 - ETA: 4s - loss: 0.0399 - accuracy: 0.99 - ETA: 4s - loss: 0.0398 - accuracy: 0.99 - ETA: 4s - loss: 0.0396 - accuracy: 0.99 - ETA: 4s - loss: 0.0398 - accuracy: 0.99 - ETA: 3s - loss: 0.0397 - accuracy: 0.99 - ETA: 3s - loss: 0.0395 - accuracy: 0.99 - ETA: 3s - loss: 0.0397 - accuracy: 0.99 - ETA: 3s - loss: 0.0402 - accuracy: 0.99 - ETA: 2s - loss: 0.0401 - accuracy: 0.99 - ETA: 2s - loss: 0.0400 - accuracy: 0.99 - ETA: 2s - loss: 0.0400 - accuracy: 0.99 - ETA: 2s - loss: 0.0399 - accuracy: 0.99 - ETA: 2s - loss: 0.0399 - accuracy: 0.99 - ETA: 1s - loss: 0.0402 - accuracy: 0.99 - ETA: 1s - loss: 0.0401 - accuracy: 0.99 - ETA: 1s - loss: 0.0406 - accuracy: 0.99 - ETA: 1s - loss: 0.0410 - accuracy: 0.99 - ETA: 0s - loss: 0.0411 - accuracy: 0.99 - ETA: 0s - loss: 0.0411 - accuracy: 0.99 - ETA: 0s - loss: 0.0412 - accuracy: 0.99 - ETA: 0s - loss: 0.0414 - accuracy: 0.99 - ETA: 0s - loss: 0.0414 - accuracy: 0.99 - 10s 195ms/step - loss: 0.0414 - accuracy: 0.9912\n",
      "Epoch 17/20\n",
      "49/49 [==============================] - ETA: 1:09 - loss: 0.0463 - accuracy: 0.98 - ETA: 39s - loss: 0.0425 - accuracy: 0.9873 - ETA: 28s - loss: 0.0435 - accuracy: 0.985 - ETA: 23s - loss: 0.0417 - accuracy: 0.985 - ETA: 19s - loss: 0.0397 - accuracy: 0.988 - ETA: 17s - loss: 0.0383 - accuracy: 0.989 - ETA: 15s - loss: 0.0372 - accuracy: 0.990 - ETA: 13s - loss: 0.0371 - accuracy: 0.990 - ETA: 12s - loss: 0.0363 - accuracy: 0.990 - ETA: 11s - loss: 0.0362 - accuracy: 0.990 - ETA: 11s - loss: 0.0366 - accuracy: 0.990 - ETA: 10s - loss: 0.0363 - accuracy: 0.990 - ETA: 9s - loss: 0.0359 - accuracy: 0.991 - ETA: 9s - loss: 0.0356 - accuracy: 0.99 - ETA: 8s - loss: 0.0352 - accuracy: 0.99 - ETA: 8s - loss: 0.0357 - accuracy: 0.99 - ETA: 7s - loss: 0.0356 - accuracy: 0.99 - ETA: 7s - loss: 0.0360 - accuracy: 0.99 - ETA: 7s - loss: 0.0362 - accuracy: 0.99 - ETA: 6s - loss: 0.0363 - accuracy: 0.99 - ETA: 6s - loss: 0.0372 - accuracy: 0.99 - ETA: 6s - loss: 0.0372 - accuracy: 0.99 - ETA: 5s - loss: 0.0372 - accuracy: 0.99 - ETA: 5s - loss: 0.0378 - accuracy: 0.99 - ETA: 5s - loss: 0.0375 - accuracy: 0.99 - ETA: 4s - loss: 0.0376 - accuracy: 0.99 - ETA: 4s - loss: 0.0385 - accuracy: 0.99 - ETA: 4s - loss: 0.0383 - accuracy: 0.99 - ETA: 4s - loss: 0.0379 - accuracy: 0.99 - ETA: 3s - loss: 0.0380 - accuracy: 0.99 - ETA: 3s - loss: 0.0378 - accuracy: 0.99 - ETA: 3s - loss: 0.0379 - accuracy: 0.99 - ETA: 3s - loss: 0.0381 - accuracy: 0.99 - ETA: 3s - loss: 0.0384 - accuracy: 0.99 - ETA: 2s - loss: 0.0387 - accuracy: 0.99 - ETA: 2s - loss: 0.0388 - accuracy: 0.99 - ETA: 2s - loss: 0.0386 - accuracy: 0.99 - ETA: 2s - loss: 0.0384 - accuracy: 0.99 - ETA: 1s - loss: 0.0388 - accuracy: 0.99 - ETA: 1s - loss: 0.0387 - accuracy: 0.99 - ETA: 1s - loss: 0.0387 - accuracy: 0.99 - ETA: 1s - loss: 0.0386 - accuracy: 0.99 - ETA: 1s - loss: 0.0385 - accuracy: 0.99 - ETA: 0s - loss: 0.0385 - accuracy: 0.99 - ETA: 0s - loss: 0.0383 - accuracy: 0.99 - ETA: 0s - loss: 0.0385 - accuracy: 0.99 - ETA: 0s - loss: 0.0385 - accuracy: 0.99 - ETA: 0s - loss: 0.0385 - accuracy: 0.99 - 9s 188ms/step - loss: 0.0385 - accuracy: 0.9918\n",
      "Epoch 18/20\n",
      "49/49 [==============================] - ETA: 1:19 - loss: 0.0324 - accuracy: 0.99 - ETA: 44s - loss: 0.0317 - accuracy: 0.9971 - ETA: 32s - loss: 0.0357 - accuracy: 0.994 - ETA: 26s - loss: 0.0339 - accuracy: 0.995 - ETA: 22s - loss: 0.0341 - accuracy: 0.994 - ETA: 19s - loss: 0.0336 - accuracy: 0.994 - ETA: 17s - loss: 0.0329 - accuracy: 0.995 - ETA: 15s - loss: 0.0329 - accuracy: 0.995 - ETA: 14s - loss: 0.0350 - accuracy: 0.993 - ETA: 13s - loss: 0.0350 - accuracy: 0.993 - ETA: 12s - loss: 0.0344 - accuracy: 0.993 - ETA: 11s - loss: 0.0335 - accuracy: 0.993 - ETA: 10s - loss: 0.0336 - accuracy: 0.993 - ETA: 10s - loss: 0.0337 - accuracy: 0.993 - ETA: 9s - loss: 0.0340 - accuracy: 0.993 - ETA: 8s - loss: 0.0338 - accuracy: 0.99 - ETA: 8s - loss: 0.0338 - accuracy: 0.99 - ETA: 8s - loss: 0.0341 - accuracy: 0.99 - ETA: 7s - loss: 0.0342 - accuracy: 0.99 - ETA: 7s - loss: 0.0346 - accuracy: 0.99 - ETA: 6s - loss: 0.0343 - accuracy: 0.99 - ETA: 6s - loss: 0.0347 - accuracy: 0.99 - ETA: 6s - loss: 0.0345 - accuracy: 0.99 - ETA: 5s - loss: 0.0346 - accuracy: 0.99 - ETA: 5s - loss: 0.0346 - accuracy: 0.99 - ETA: 5s - loss: 0.0342 - accuracy: 0.99 - ETA: 5s - loss: 0.0341 - accuracy: 0.99 - ETA: 4s - loss: 0.0345 - accuracy: 0.99 - ETA: 4s - loss: 0.0344 - accuracy: 0.99 - ETA: 4s - loss: 0.0344 - accuracy: 0.99 - ETA: 3s - loss: 0.0345 - accuracy: 0.99 - ETA: 3s - loss: 0.0344 - accuracy: 0.99 - ETA: 3s - loss: 0.0347 - accuracy: 0.99 - ETA: 3s - loss: 0.0347 - accuracy: 0.99 - ETA: 2s - loss: 0.0348 - accuracy: 0.99 - ETA: 2s - loss: 0.0350 - accuracy: 0.99 - ETA: 2s - loss: 0.0356 - accuracy: 0.99 - ETA: 2s - loss: 0.0356 - accuracy: 0.99 - ETA: 2s - loss: 0.0356 - accuracy: 0.99 - ETA: 1s - loss: 0.0356 - accuracy: 0.99 - ETA: 1s - loss: 0.0359 - accuracy: 0.99 - ETA: 1s - loss: 0.0358 - accuracy: 0.99 - ETA: 1s - loss: 0.0357 - accuracy: 0.99 - ETA: 1s - loss: 0.0358 - accuracy: 0.99 - ETA: 0s - loss: 0.0360 - accuracy: 0.99 - ETA: 0s - loss: 0.0358 - accuracy: 0.99 - ETA: 0s - loss: 0.0359 - accuracy: 0.99 - ETA: 0s - loss: 0.0359 - accuracy: 0.99 - 10s 196ms/step - loss: 0.0359 - accuracy: 0.9932\n",
      "Epoch 19/20\n"
     ]
    },
    {
     "name": "stdout",
     "output_type": "stream",
     "text": [
      "49/49 [==============================] - ETA: 1:13 - loss: 0.0429 - accuracy: 0.99 - ETA: 41s - loss: 0.0362 - accuracy: 0.9922 - ETA: 30s - loss: 0.0343 - accuracy: 0.992 - ETA: 24s - loss: 0.0322 - accuracy: 0.992 - ETA: 20s - loss: 0.0324 - accuracy: 0.992 - ETA: 18s - loss: 0.0331 - accuracy: 0.992 - ETA: 16s - loss: 0.0331 - accuracy: 0.992 - ETA: 14s - loss: 0.0328 - accuracy: 0.992 - ETA: 13s - loss: 0.0322 - accuracy: 0.993 - ETA: 12s - loss: 0.0312 - accuracy: 0.993 - ETA: 11s - loss: 0.0316 - accuracy: 0.993 - ETA: 10s - loss: 0.0310 - accuracy: 0.993 - ETA: 10s - loss: 0.0315 - accuracy: 0.993 - ETA: 9s - loss: 0.0311 - accuracy: 0.994 - ETA: 8s - loss: 0.0312 - accuracy: 0.99 - ETA: 8s - loss: 0.0314 - accuracy: 0.99 - ETA: 8s - loss: 0.0318 - accuracy: 0.99 - ETA: 7s - loss: 0.0319 - accuracy: 0.99 - ETA: 7s - loss: 0.0315 - accuracy: 0.99 - ETA: 6s - loss: 0.0315 - accuracy: 0.99 - ETA: 6s - loss: 0.0320 - accuracy: 0.99 - ETA: 6s - loss: 0.0320 - accuracy: 0.99 - ETA: 5s - loss: 0.0319 - accuracy: 0.99 - ETA: 5s - loss: 0.0319 - accuracy: 0.99 - ETA: 5s - loss: 0.0318 - accuracy: 0.99 - ETA: 5s - loss: 0.0317 - accuracy: 0.99 - ETA: 4s - loss: 0.0321 - accuracy: 0.99 - ETA: 4s - loss: 0.0322 - accuracy: 0.99 - ETA: 4s - loss: 0.0323 - accuracy: 0.99 - ETA: 4s - loss: 0.0323 - accuracy: 0.99 - ETA: 3s - loss: 0.0320 - accuracy: 0.99 - ETA: 3s - loss: 0.0317 - accuracy: 0.99 - ETA: 3s - loss: 0.0319 - accuracy: 0.99 - ETA: 3s - loss: 0.0318 - accuracy: 0.99 - ETA: 2s - loss: 0.0317 - accuracy: 0.99 - ETA: 2s - loss: 0.0316 - accuracy: 0.99 - ETA: 2s - loss: 0.0322 - accuracy: 0.99 - ETA: 2s - loss: 0.0322 - accuracy: 0.99 - ETA: 2s - loss: 0.0322 - accuracy: 0.99 - ETA: 1s - loss: 0.0326 - accuracy: 0.99 - ETA: 1s - loss: 0.0327 - accuracy: 0.99 - ETA: 1s - loss: 0.0328 - accuracy: 0.99 - ETA: 1s - loss: 0.0330 - accuracy: 0.99 - ETA: 0s - loss: 0.0333 - accuracy: 0.99 - ETA: 0s - loss: 0.0335 - accuracy: 0.99 - ETA: 0s - loss: 0.0334 - accuracy: 0.99 - ETA: 0s - loss: 0.0334 - accuracy: 0.99 - ETA: 0s - loss: 0.0333 - accuracy: 0.99 - 9s 191ms/step - loss: 0.0333 - accuracy: 0.9941\n",
      "Epoch 20/20\n",
      "49/49 [==============================] - ETA: 1:16 - loss: 0.0351 - accuracy: 0.99 - ETA: 42s - loss: 0.0320 - accuracy: 0.9941 - ETA: 30s - loss: 0.0293 - accuracy: 0.993 - ETA: 24s - loss: 0.0310 - accuracy: 0.994 - ETA: 21s - loss: 0.0298 - accuracy: 0.994 - ETA: 18s - loss: 0.0302 - accuracy: 0.995 - ETA: 16s - loss: 0.0294 - accuracy: 0.996 - ETA: 15s - loss: 0.0312 - accuracy: 0.995 - ETA: 13s - loss: 0.0303 - accuracy: 0.995 - ETA: 12s - loss: 0.0301 - accuracy: 0.995 - ETA: 11s - loss: 0.0299 - accuracy: 0.995 - ETA: 11s - loss: 0.0304 - accuracy: 0.995 - ETA: 10s - loss: 0.0307 - accuracy: 0.995 - ETA: 9s - loss: 0.0303 - accuracy: 0.995 - ETA: 9s - loss: 0.0306 - accuracy: 0.99 - ETA: 8s - loss: 0.0303 - accuracy: 0.99 - ETA: 8s - loss: 0.0304 - accuracy: 0.99 - ETA: 7s - loss: 0.0309 - accuracy: 0.99 - ETA: 7s - loss: 0.0307 - accuracy: 0.99 - ETA: 7s - loss: 0.0306 - accuracy: 0.99 - ETA: 6s - loss: 0.0306 - accuracy: 0.99 - ETA: 6s - loss: 0.0309 - accuracy: 0.99 - ETA: 6s - loss: 0.0307 - accuracy: 0.99 - ETA: 5s - loss: 0.0311 - accuracy: 0.99 - ETA: 5s - loss: 0.0309 - accuracy: 0.99 - ETA: 5s - loss: 0.0311 - accuracy: 0.99 - ETA: 5s - loss: 0.0310 - accuracy: 0.99 - ETA: 4s - loss: 0.0311 - accuracy: 0.99 - ETA: 4s - loss: 0.0308 - accuracy: 0.99 - ETA: 4s - loss: 0.0307 - accuracy: 0.99 - ETA: 3s - loss: 0.0312 - accuracy: 0.99 - ETA: 3s - loss: 0.0316 - accuracy: 0.99 - ETA: 3s - loss: 0.0318 - accuracy: 0.99 - ETA: 3s - loss: 0.0317 - accuracy: 0.99 - ETA: 3s - loss: 0.0318 - accuracy: 0.99 - ETA: 2s - loss: 0.0318 - accuracy: 0.99 - ETA: 2s - loss: 0.0317 - accuracy: 0.99 - ETA: 2s - loss: 0.0314 - accuracy: 0.99 - ETA: 2s - loss: 0.0314 - accuracy: 0.99 - ETA: 1s - loss: 0.0313 - accuracy: 0.99 - ETA: 1s - loss: 0.0312 - accuracy: 0.99 - ETA: 1s - loss: 0.0312 - accuracy: 0.99 - ETA: 1s - loss: 0.0312 - accuracy: 0.99 - ETA: 1s - loss: 0.0312 - accuracy: 0.99 - ETA: 0s - loss: 0.0311 - accuracy: 0.99 - ETA: 0s - loss: 0.0311 - accuracy: 0.99 - ETA: 0s - loss: 0.0313 - accuracy: 0.99 - ETA: 0s - loss: 0.0312 - accuracy: 0.99 - 10s 197ms/step - loss: 0.0312 - accuracy: 0.9944\n"
     ]
    }
   ],
   "source": [
    "history = model.fit(train.shuffle(10000).batch(512),epochs = 20,verbose=1)\n"
   ]
  },
  {
   "cell_type": "code",
   "execution_count": 17,
   "metadata": {},
   "outputs": [
    {
     "name": "stdout",
     "output_type": "stream",
     "text": [
      "49/49 - 7s - loss: 0.5471 - accuracy: 0.8460\n"
     ]
    }
   ],
   "source": [
    "results = model.evaluate(test.batch(512),verbose=2)"
   ]
  },
  {
   "cell_type": "code",
   "execution_count": 18,
   "metadata": {},
   "outputs": [
    {
     "name": "stdout",
     "output_type": "stream",
     "text": [
      "loss: 0.547\n",
      "accuracy: 0.846\n"
     ]
    }
   ],
   "source": [
    "for name,value in zip(model.metrics_names,results):\n",
    "    print(\"%s: %.3f\" %(name,value))"
   ]
  },
  {
   "cell_type": "code",
   "execution_count": null,
   "metadata": {},
   "outputs": [],
   "source": []
  }
 ],
 "metadata": {
  "kernelspec": {
   "display_name": "Python 3",
   "language": "python",
   "name": "python3"
  },
  "language_info": {
   "codemirror_mode": {
    "name": "ipython",
    "version": 3
   },
   "file_extension": ".py",
   "mimetype": "text/x-python",
   "name": "python",
   "nbconvert_exporter": "python",
   "pygments_lexer": "ipython3",
   "version": "3.7.4"
  }
 },
 "nbformat": 4,
 "nbformat_minor": 2
}
